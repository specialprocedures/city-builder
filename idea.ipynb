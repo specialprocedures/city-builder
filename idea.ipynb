{
 "cells": [
  {
   "cell_type": "code",
   "execution_count": 6,
   "metadata": {},
   "outputs": [
    {
     "data": {
      "text/plain": [
       "{'status': 'success'}"
      ]
     },
     "execution_count": 6,
     "metadata": {},
     "output_type": "execute_result"
    }
   ],
   "source": [
    "import ollama\n",
    "ollama.pull('llama3.2:3b')"
   ]
  },
  {
   "cell_type": "code",
   "execution_count": 14,
   "metadata": {},
   "outputs": [
    {
     "name": "stdout",
     "output_type": "stream",
     "text": [
      "**المدن الصغيرة (Al Madinat al-Sughairah)**\n",
      "\n",
      "المدينة الصغيرة، أو «المدن الصغيرة»، هي مدينة فريدة من نوعها تقع في نهاية العالم المظلمة. تتميز المدينة بمزيج متميز من النفوذ السياسي والتكنولوجي والغذاء الثقافي.\n",
      "\n",
      "**تاريخ المدينة**\n",
      "\n",
      "تأسست المدنان الصغيرة في القرن العشرين، عندما كان العالم قد اشتل عن ظلال الحرب العالمية الثانية. أسسها مجموعة من الخبرعصاس والمحافظ، الذين قاموا بالتخطيط لإنشاء مدينة سائدة ومتكاملة. خلال الربيع السوفياتي، كانت المدنان الصغيرة قد أصبحت مركزًا ديمقراطيًا وثقافيًا للمنطقة.\n",
      "\n",
      "**المناطق**\n",
      "\n",
      "المدينة تتكامل في تسعة مناطق رئيسية:\n",
      "\n",
      "1. **الناسا الجوية (Al-Nasaa Al-Jawwiyah)**: هي منطقة السوق القبلية، التي تعمل كأبواب المدينة لتجارة البخشل والفلبة.\n",
      "2. **المرآة (Al-Mar'ah)**: هي منطقة البلازا الواسعة والأطول، حيث تقام حلقات الحضارة والفلسفة.\n",
      "3. **التكنولوجيا القومية (At-Taqniyah Al-Qawmiyyah)**: هو المركز السياسي للتكنولوجيا ووسائل الإعلام.\n",
      "4. **سجن الفيضان (Sijan al-Fiadhān)**: هي منطقة السجن الشهيرة والضحك، التي تعمل كمحطات للاستجابة للانتحال.\n",
      "5. **المترو الجوالي (Al-Matroh Al-Jawwali)**: هو المركز السياسي والعسكري للمدينة.\n",
      "6. **المجلس الرئاسي (Al-Majlis Al-Ra'isi)**: هو السينما الحكومية التي تصدر أسماء الفنانين الجدد في المدينة.\n",
      "7. **الناس الصغيرة (An-Nas Al-Sughairah)**: هي منطقة الشعب الساحرة، التي تعتبرها الزوار محركة لليسار اليمين وحركة متعددة القاعات.\n",
      "\n",
      "**المعالم**\n",
      "\n",
      "*   **المصعد المدمر**: هي مكان الكاتب الناجم، \"Al-Wasif\"، الذي قام بكتابة \"Khalas Al-Khulafah\" أو «أخير الخلفاء».\n",
      "*   **المشكلة السياسية**: هو معبد المسيح الأوحد، والذي يعتبر مصدر الحضارة القديمة للمدينة.\n",
      "*   **علم الفلين الرقيق (Al-'Ilm Al-Falani Al-Raqi')**: هو العرش القومي للتكنولوجيا الجديدة والمزود بوسائل التواصل الإلكتروني.\n",
      "*   **الربيع الجديدة (Al- Rub'iya Al-Jadida)**: هو حلبة الرغبة، الذي يقيم فيه الحضور الكبير لتقنيات الفن المخيف والرقص.\n",
      "\n",
      "**الحفلات**\n",
      "\n",
      "المدينة تتوعد بالعديد من الحفلات الشهيرة، وهي تمثلت في:\n",
      "*   **مسابقة الصوت الشعبية (Al-Masabiq Al-Share'iyyah)**: وهو منافسة موسمية لمن compétوها بأداء الطهي والغناء.\n",
      "*   **الجري الحاد** (Al-Jir Al-Hadid): هو حلم القطيع، التي تسعى لأول مرة للافادة الأصلية في العالم المضطر.\n",
      "\n",
      "**الناس**\n",
      "\n",
      "المدينة تتألف من مجموعة كبيرة من الأفراد والفئات الاجتماعية. إليك بعض الشخصيات المشهورة:\n",
      "\n",
      "*   **شيكو كاجو (Shayku Kajyu)**: هو الرائد السياسي للمجتمع الحرفي، وسيط لليسار اليمين والمقاومة.\n",
      "*   **آغا الشابز (Agha Al-Shabz)**: هو من أهم المحمدين المسلحين المتميزين بمخترعة البالوين الجذابة والمنظمة.\n",
      "*   **زينب الحبل (Zaynab Al-Habl)**: هي فنانة ومجرد مشهورة ومتخصصة في الحضارة الجريمة، وعضوة حركة النجوم السوداء.\n",
      "\n",
      "المدنان الصغيرة هي أرض قصة وروح عالية، تنعقد فيها التقاليد الأصلية والعصر الحديث معًا.\n"
     ]
    }
   ],
   "source": [
    "system_prompt = \"\"\"\n",
    "You are a writing assistant. Your job is to creatively generate prose to create a fictional world. You always write in Arabic.\"\n",
    "\n",
    "\"\"\"\n",
    "\n",
    "\n",
    "def generate(prompt, context=[], model='llama3.2:3b', num_ctx=16384, num_predict=8192, temperature=1):\n",
    "    response = ollama.generate(model=model, prompt=prompt, system=system_prompt, context=context, options={'num_ctx': num_ctx, 'num_predict':num_predict, 'temperature':temperature, 'main_gpu':0})\n",
    "    return response\n",
    "\n",
    "themes = \"noir, cyberpunk, folk horror, hip hop, dystopia.\"\n",
    "\n",
    "city_generate_prompt = f\"\"\"\n",
    "Write a detailed wikipedia entry for a fictional city. \n",
    "It should contain elements of {themes}\n",
    "The entry should contain numerous districts, events, landmarks and characters.\n",
    "\"\"\"\n",
    "city = generate(prompt=city_generate_prompt, temperature=1.2)['response']\n",
    "print(city)\n",
    "\n",
    "with open('data/city.md', 'w') as f:\n",
    "    f.write(city)"
   ]
  },
  {
   "cell_type": "code",
   "execution_count": 9,
   "metadata": {},
   "outputs": [
    {
     "data": {
      "text/plain": [
       "['City of Tenebrous',\n",
       " \"Raven's Peak\",\n",
       " 'The Nexus',\n",
       " 'Carnaby Hollow',\n",
       " 'The Sump',\n",
       " 'Tenebrous Day',\n",
       " 'The Red Tide',\n",
       " 'Battle of Blackberry Street',\n",
       " 'Cygnus Monument',\n",
       " 'Sonic Lab',\n",
       " 'Chasm of Shadows',\n",
       " 'Augusta LaRouche',\n",
       " 'Professor Felix Blackwood',\n",
       " 'Vincent Stone',\n",
       " 'Lilith Flynn',\n",
       " 'Trevor LaRose.']"
      ]
     },
     "execution_count": 9,
     "metadata": {},
     "output_type": "execute_result"
    }
   ],
   "source": [
    "\n",
    "def get_objects(entry):\n",
    "    object_prompt = f\"\"\"\n",
    "        List entities of interest in the following entry. \n",
    "        Entities of interest are anything that would have it's own wikipedia page. \n",
    "        This will include events, places, people, and organisations.\n",
    "        Here is the entry:{entry}\n",
    "        Response should be in the format of comma-separated entities only, do not provide any additional context, text or information.\"\n",
    "\"\"\"\n",
    "    objects = generate(prompt=object_prompt, temperature=0)\n",
    "    return [i.strip() for i in objects['response'].split(',')]\n",
    "\n",
    "objects = get_objects(city)\n",
    "objects"
   ]
  },
  {
   "cell_type": "code",
   "execution_count": 10,
   "metadata": {},
   "outputs": [
    {
     "name": "stdout",
     "output_type": "stream",
     "text": [
      "Creating City of Tenebrous\n",
      "Creating Raven's Peak\n",
      "Creating The Nexus\n",
      "Creating Carnaby Hollow\n",
      "Creating The Sump\n",
      "Creating Tenebrous Day\n",
      "Creating The Red Tide\n",
      "Creating Battle of Blackberry Street\n",
      "Creating Cygnus Monument\n",
      "Creating Sonic Lab\n",
      "Creating Chasm of Shadows\n",
      "Creating Augusta LaRouche\n",
      "Creating Professor Felix Blackwood\n",
      "Creating Vincent Stone\n",
      "Creating Lilith Flynn\n",
      "Creating Trevor LaRose.\n"
     ]
    }
   ],
   "source": [
    "for object in objects:\n",
    "    print(f\"Creating {object}\")\n",
    "    entry_prompt = f\"\"\"\n",
    "        Create a detailed wikipedia entry for {object}.\n",
    "        Here is the context in which the object first appeared to help {city}.\n",
    "        You may draw on themes of {themes} in your work.\n",
    "        The tone of the article should be formal and informative, like a wikipedia article.\n",
    "        \"\"\"\n",
    "    entry = generate(prompt=entry_prompt, temperature=1)['response']\n",
    "    entry_path = object.lower().replace(\" \", \"_\")\n",
    "    with open(f'data/{entry_path}.md', 'w') as f:\n",
    "        f.write(entry)"
   ]
  },
  {
   "cell_type": "code",
   "execution_count": 62,
   "metadata": {},
   "outputs": [],
   "source": [
    "inspiration = generate(f\"What inspiration may the following text be drawing on? {city}\")['response']\n",
    "with open(\"data/inspiration.md\", 'w') as f:\n",
    "    f.write(inspiration)"
   ]
  },
  {
   "cell_type": "code",
   "execution_count": 26,
   "metadata": {},
   "outputs": [
    {
     "data": {
      "text/plain": [
       "'**Neo-Tsarograd**\\n\\nNeo-Tsarograd is a sprawling metropolis located in the heart of the Krasnov region, a post-industrial wasteland that was once part of the Soviet Empire. The city\\'s name is a testament to its tumultuous past, where tsarist grandeur and communist ideology clashed with the unforgiving realities of modern life.\\n\\n**History**\\n\\nFounded in 1957 as the factory town of Krasnovsk, Neo-Tsarograd underwent rapid expansion during the Brezhnev era. As the Soviet Union\\'s industrial base expanded, the city\\'s population swelled to over a million inhabitants. The influx of workers and migrants created a melting pot of ethnic groups, who brought with them their unique cultural traditions and superstitions.\\n\\nHowever, as the Soviet Empire began to crumble in the late 1980s, Neo-Tsarograd was left to fend for itself. With the collapse of state-controlled industries, the city descended into economic chaos, giving rise to a thriving black market and organized crime syndicates. As the rule of law faltered, a new era of corruption and violence emerged.\\n\\n**Government**\\n\\nNeo-Tsarograd is now a de facto independent republic, governed by the Council of Guilds, a loose coalition of powerful business interests, organized crime families, and corrupt officials. The city\\'s administration operates under the principles of \"market socialism,\" where private enterprise and government-controlled institutions coexist in an uneasy symbiosis.\\n\\nThe ruler of Neo-Tsarograd is known only as \"The Patriarch,\" a reclusive figure rumored to possess immense wealth, magical powers, and ties to the occult. His authority is absolute, but his existence is shrouded in mystery, fueling speculation and conspiracy theories throughout the city\\'s underworld.\\n\\n**Geography**\\n\\nNeo-Tsarograd sprawls across 250 square kilometers of industrial wasteland, surrounded by a vast network of abandoned factories, warehouses, and Soviet-era residential complexes. The city\\'s landscape is characterized by rusting steel behemoths, polluted waterways, and toxic soil.\\n\\nThe metropolis is divided into distinct districts, each with its own unique character:\\n\\n* **Krasnovsk**: The historic factory district, now a hub for organized crime and black market trade.\\n* **Tsarograd Heights**: A luxury residential area for the city\\'s elite, featuring opulent skyscrapers and private security forces.\\n* **The Narva Spire**: A dilapidated industrial zone where smugglers, thieves, and hackers operate with impunity.\\n* **Kremlin District**: The official seat of government, where the Council of Guilds resides in a fortified complex surrounded by layers of paranoia.\\n\\n**Cultural Influences**\\n\\nNeo-Tsarograd\\'s unique cultural identity reflects its complex history as a Soviet industrial center. Folk horror elements are woven throughout the city\\'s folklore, with tales of:\\n\\n* **The Whispering Walls**: Ancient buildings rumored to possess supernatural properties, whispering secrets and prophecies to those who listen closely.\\n* **The Red Ones**: A mystical cult said to worship ancient Slavic deities, performing dark rituals in abandoned factories and hidden corners.\\n* **The Nightwatchers**: A secret society of informants, spies, and saboteurs, patrolling the city\\'s shadows and gathering intelligence for their various masters.\\n\\n**Infrastructure**\\n\\nNeo-Tsarograd\\'s infrastructure is a maze of crumbling infrastructure, hastily patched-together networks, and makeshift solutions. The city\\'s energy supply relies on a mix of fossil fuels, nuclear power plants, and dubious off-grid energy schemes.\\n\\nThe metropolis is home to a vast network of narrow streets, alleys, and tunnels, making it nearly impossible for outsiders to navigate without local guides or \"fixers.\" Public transportation is scarce, with private vehicles and high-tech hoverbikes the norm for those who can afford them.\\n\\n**Economy**\\n\\nNeo-Tsarograd\\'s economy revolves around black market trade, organized crime, and off-the-books entrepreneurship. The city is a hub for smuggled goods, contraband technologies, and illicit services, from identity forgery to cyber warfare.\\n\\nThe Council of Guilds controls the flow of capital through various cartels, syndicates, and shell companies, maintaining a tight grip on the city\\'s economy. Foreign investment is scarce, but the influx of money laundering operations has created a new class of wealthy oligarchs, often with ties to international crime organizations.\\n\\n**Notable Figures**\\n\\n* **The Patron**: A reclusive industrialist rumored to possess vast wealth and connections to high-ranking officials.\\n* **Lady Zhitomirska**: A charismatic crime boss, leader of the Red Vipers syndicate, and alleged mistress of The Patriarch.\\n* **Kolya Morozov**: A charismatic hacker and revolutionary, said to be planning a coup against the Council of Guilds.\\n\\n**Environmental Impact**\\n\\nNeo-Tsarograd\\'s environmental record is abysmal. Toxic waste from abandoned factories and makeshift dumps permeates the city\\'s waterways and soil, causing widespread health problems and pollution-related illnesses. The once-clear rivers now flow with a noxious mixture of chemicals, fueling speculation about the city\\'s long-term viability.\\n\\n**Crime and Corruption**\\n\\nNeo-Tsarograd is a hub for organized crime, black market trade, and corruption on an unprecedented scale. Crime rates are through the roof, with murder, extortion, and assault as everyday occurrences. The city\\'s corrupt law enforcement agencies, riddled with bribes and kickbacks, struggle to maintain even basic order.\\n\\n**Security**\\n\\nThe city is a battleground for rival factions vying for control. Gangs of street toughs and private security forces clash in the streets, while cyber warfare and espionage have become everyday tools for those seeking power or profit.\\n\\nForeign observers are often viewed with suspicion, as the city\\'s porous borders and patchwork infrastructure make it an attractive target for smugglers, spies, and other unsavory characters.'"
      ]
     },
     "execution_count": 26,
     "metadata": {},
     "output_type": "execute_result"
    }
   ],
   "source": [
    "city['response']"
   ]
  }
 ],
 "metadata": {
  "kernelspec": {
   "display_name": "base",
   "language": "python",
   "name": "python3"
  },
  "language_info": {
   "codemirror_mode": {
    "name": "ipython",
    "version": 3
   },
   "file_extension": ".py",
   "mimetype": "text/x-python",
   "name": "python",
   "nbconvert_exporter": "python",
   "pygments_lexer": "ipython3",
   "version": "3.12.6"
  }
 },
 "nbformat": 4,
 "nbformat_minor": 2
}
